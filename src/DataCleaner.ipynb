{
 "cells": [
  {
   "cell_type": "code",
   "execution_count": 1,
   "metadata": {},
   "outputs": [],
   "source": [
    "import pandas as pd\n",
    "import numpy as np\n",
    "import re"
   ]
  },
  {
   "cell_type": "code",
   "execution_count": 2,
   "metadata": {},
   "outputs": [],
   "source": [
    "courses = pd.read_csv('../data/Courses.csv', index_col=0)"
   ]
  },
  {
   "cell_type": "code",
   "execution_count": 3,
   "metadata": {},
   "outputs": [],
   "source": [
    "with open('../data/study_programmes.txt') as f:\n",
    "    study_programmes = f.read().split('_')"
   ]
  },
  {
   "cell_type": "code",
   "execution_count": 4,
   "metadata": {},
   "outputs": [],
   "source": [
    "for program in study_programmes:\n",
    "    courses[program.lower()] = [None for _ in range(len(courses))]"
   ]
  },
  {
   "cell_type": "code",
   "execution_count": 5,
   "metadata": {},
   "outputs": [],
   "source": [
    "bachelor_course_types = {'naturvidenskabeligt grundfag', 'teknologisk linjefag', 'projekter og almene fag'}\n",
    "\n",
    "kandidat_course_types = {'generel retningskompetence', 'teknologisk specialisering', }\n",
    "\n",
    "diplom_course_types = {'tilvalgskurser', 'obligatorisk kursus', 'specialiseringskursus'}"
   ]
  },
  {
   "cell_type": "code",
   "execution_count": 6,
   "metadata": {
    "scrolled": true
   },
   "outputs": [],
   "source": [
    "for i, (kursus, number) in enumerate(zip(courses.Kursustype, courses['Kursus id'])):\n",
    "    kursus = kursus.replace('_Kurset udbydes som enkeltfag', '').split('_')\n",
    "    kursus_type = [kursus[0]]\n",
    "    for line in kursus[1:]:\n",
    "        if line.lower() == 'kandidat' or line.lower() == 'bachelor':\n",
    "            kursus_type.append(line)\n",
    "            \n",
    "        else:\n",
    "            program = None\n",
    "            if line[:10].lower() == 'bachelor i':\n",
    "                courses['kunstig intelligens og data (bac)'][i] = 'any' # FIX THIS LATER\n",
    "            \n",
    "            else:\n",
    "                elements = line.split(', ')\n",
    "                elements[0] = elements[0].replace('Naturvidenskabelige', 'Naturvidenskabeligt') # Spelling inconsistency\n",
    "                elements[0] = elements[0].replace('Technology Core Courses', 'teknologisk linjefag') # Translation\n",
    "                \n",
    "                if len(elements) == 2:\n",
    "                    if elements[0].lower() in diplom_course_types:\n",
    "                        program = elements[1] + ' (dip)'\n",
    "                    \n",
    "                    elif elements[0].lower() in bachelor_course_types:\n",
    "                        if elements[0].lower() == 'projekter og almene fag':\n",
    "                            program = elements[1].replace('BSc i ', '') + ' (bac)'\n",
    "                            \n",
    "                        else:\n",
    "                            program = elements[1] + ' (bac)'\n",
    "                        \n",
    "                        program = program.replace('&', 'og')\n",
    "\n",
    "                    elif elements[0].lower() in kandidat_course_types:\n",
    "                        program = elements[1] + ' (kan)'                            \n",
    "                        \n",
    "                \n",
    "                elif len(elements) == 3:\n",
    "                    if elements[1].lower() == 'kandidatuddannelsen':\n",
    "                        program = (elements[2] + ' (kan)').replace('  ', ' ')                        \n",
    "                            \n",
    "                    elif elements[1].lower() == 'diplomingeniørretning':\n",
    "                        program = elements[2] + ' (dip)'\n",
    "                    \n",
    "                    else:\n",
    "                        program = elements[1]\n",
    "                \n",
    "                if program is None:\n",
    "                    continue\n",
    "                \n",
    "                if program.lower() in courses.columns:\n",
    "                    courses[program.lower()][i] = elements[0].lower()\n",
    "                    \n",
    "                else:\n",
    "                    # Edge cases\n",
    "                    if program[-9:] == 'Mobilitet':\n",
    "                        courses['mobilitet, transport og logistik (dip)'][i] = elements[0].lower()\n",
    "                    \n",
    "                    elif program[-5:] == '(dip)':\n",
    "                        courses['bygningsdesign (dip)'][i] = elements[0].lower()\n",
    "                    \n",
    "                    elif program[-5:] == '(kan)':\n",
    "                        courses['bioinformatik og systembiologi (kan)'][i] = elements[0].lower()\n",
    "                    \n",
    "                    elif program[:6] == 'Desing':\n",
    "                        courses['design og innovation (bac)'][i] = elements[0].lower()\n",
    "                    \n",
    "                    #else:\n",
    "                        #print(f'{elements[0]:<30} --- {program.lower()}')\n",
    "                        #print(number, program.lower())\n",
    "            \n",
    "    courses.Kursustype[i] = ', '.join(kursus_type)"
   ]
  },
  {
   "cell_type": "code",
   "execution_count": 7,
   "metadata": {},
   "outputs": [],
   "source": [
    "# Fix location of courses\n",
    "for i, placering in enumerate(courses['Undervisningens placering']):\n",
    "    s = ' '.join(placering.split(' ')[:2])\n",
    "    courses['Undervisningens placering'][i] = s if s == 'Campus Lyngby' or s == 'Campus Ballerup' else 'Unknown'"
   ]
  },
  {
   "cell_type": "code",
   "execution_count": 8,
   "metadata": {},
   "outputs": [],
   "source": [
    "#for i, prereq in enumerate(courses['Anbefalede forudsætninger']):\n",
    "#    if prereq is not np.nan and ('/14' in prereq or '/33' in prereq):\n",
    "#        print(i, prereq, '\\n')"
   ]
  },
  {
   "cell_type": "code",
   "execution_count": 9,
   "metadata": {},
   "outputs": [],
   "source": [
    "# Fix recommended prerequisites\n",
    "courses['Anbefalede forudsætninger'][190] = '_PROBLEM_Erfaring med Matlab-programmering(fx 02631/02633) og numeriskeberegninger (fx 02601).'\n",
    "courses['Anbefalede forudsætninger'][1506] = 'Det forudsættes at kurset 62531 og 02312/02314 følges samtidig,eller at man har tilsvarendeforudsætninger'\n",
    "courses['Anbefalede forudsætninger'][417] = ''\n",
    "\n",
    "for i, (forudsætning, number) in enumerate(zip(courses['Anbefalede forudsætninger'], courses['Kursus id'])):\n",
    "    if forudsætning is not np.nan:\n",
    "        x = re.findall(r'(\\d{5})', forudsætning)\n",
    "        y = re.findall(r'(\\d{2}[A-Z]\\d{2})', forudsætning)\n",
    "        fs = set(kursus for kursus in x + y if kursus != number)\n",
    "        courses['Anbefalede forudsætninger'][i] = ','.join(fs) if len(fs) else 'Unknown'\n"
   ]
  },
  {
   "cell_type": "code",
   "execution_count": 10,
   "metadata": {},
   "outputs": [],
   "source": [
    "# Fix department\n",
    "for i, institut in enumerate(courses.Institut):\n",
    "    change = False\n",
    "    \n",
    "    # Fix spelling errors\n",
    "    if not institut[2] == ' ':\n",
    "        institut = institut[:2] + ' ' + institut[2:]\n",
    "        change = True\n",
    "    \n",
    "    if institut[3] == 'I':\n",
    "        if institut[11] != ' ':\n",
    "            institut = institut[:11] + ' ' + institut[11:]\n",
    "            change = True\n",
    "        elif institut[15] != ' ':\n",
    "            institut = institut[:15] + ' ' + institut[15:]\n",
    "            change = True\n",
    "    \n",
    "    if change:\n",
    "        courses.Institut[i] = institut"
   ]
  },
  {
   "cell_type": "code",
   "execution_count": 11,
   "metadata": {},
   "outputs": [],
   "source": [
    "for i, points in enumerate(courses['Point( ECTS )']):\n",
    "    if ',' in points:\n",
    "        courses['Point( ECTS )'][i] = float(points.replace(',', '.'))\n",
    "    else:\n",
    "        courses['Point( ECTS )'][i] = int(points)"
   ]
  },
  {
   "cell_type": "code",
   "execution_count": 12,
   "metadata": {},
   "outputs": [],
   "source": [
    "courses.to_csv('../data/UpdatedCourses.csv')"
   ]
  },
  {
   "cell_type": "code",
   "execution_count": null,
   "outputs": [],
   "source": [],
   "metadata": {
    "collapsed": false,
    "pycharm": {
     "name": "#%%\n"
    }
   }
  }
 ],
 "metadata": {
  "kernelspec": {
   "display_name": "Python 3",
   "language": "python",
   "name": "python3"
  },
  "language_info": {
   "codemirror_mode": {
    "name": "ipython",
    "version": 3
   },
   "file_extension": ".py",
   "mimetype": "text/x-python",
   "name": "python",
   "nbconvert_exporter": "python",
   "pygments_lexer": "ipython3",
   "version": "3.8.7"
  }
 },
 "nbformat": 4,
 "nbformat_minor": 1
}